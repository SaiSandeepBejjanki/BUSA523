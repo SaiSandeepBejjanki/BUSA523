{
 "cells": [
  {
   "cell_type": "markdown",
   "id": "eee734b5",
   "metadata": {},
   "source": [
    "# 2. Develop Supervised learning models. (50)\n",
    "○ Logistic Regression\n",
    "\n",
    "○ Random Forest\n",
    "\n",
    "○ Support Vector Machine\n",
    "\n",
    "○ Neural Network\n",
    "\n",
    "Compare the 4 methods based on the performance metrics and identify the best\n",
    "model for this problem.\n",
    "- Use 10 - fold cross validation.\n",
    "- Use GridSearchCV for searching through hyper parameters."
   ]
  },
  {
   "cell_type": "code",
   "execution_count": 9,
   "id": "8dfb2425",
   "metadata": {},
   "outputs": [],
   "source": [
    "# Import libraries\n",
    "import warnings\n",
    "warnings.filterwarnings('ignore')\n",
    "\n",
    "\n",
    "import pandas as pd\n",
    "import matplotlib.pyplot as plt\n",
    "\n",
    "# Scikit learn - machine learning algorithms and methods\n",
    "\n",
    "from sklearn.model_selection import train_test_split, KFold, GridSearchCV\n",
    "from sklearn.preprocessing import StandardScaler\n",
    "from sklearn.preprocessing import MinMaxScaler\n",
    "from sklearn.metrics import roc_auc_score, plot_roc_curve\n",
    "from sklearn.linear_model import LogisticRegression\n",
    "from sklearn.ensemble import RandomForestClassifier\n",
    "from sklearn.svm import SVC\n",
    "from sklearn.neural_network import MLPClassifier\n",
    "from sklearn.metrics import classification_report,confusion_matrix, ConfusionMatrixDisplay"
   ]
  },
  {
   "cell_type": "code",
   "execution_count": 10,
   "id": "35510016",
   "metadata": {},
   "outputs": [
    {
     "data": {
      "text/html": [
       "<div>\n",
       "<style scoped>\n",
       "    .dataframe tbody tr th:only-of-type {\n",
       "        vertical-align: middle;\n",
       "    }\n",
       "\n",
       "    .dataframe tbody tr th {\n",
       "        vertical-align: top;\n",
       "    }\n",
       "\n",
       "    .dataframe thead th {\n",
       "        text-align: right;\n",
       "    }\n",
       "</style>\n",
       "<table border=\"1\" class=\"dataframe\">\n",
       "  <thead>\n",
       "    <tr style=\"text-align: right;\">\n",
       "      <th></th>\n",
       "      <th>Age</th>\n",
       "      <th>Year</th>\n",
       "      <th>Auxillary nodes</th>\n",
       "      <th>Survival</th>\n",
       "    </tr>\n",
       "  </thead>\n",
       "  <tbody>\n",
       "    <tr>\n",
       "      <th>0</th>\n",
       "      <td>30</td>\n",
       "      <td>62</td>\n",
       "      <td>3</td>\n",
       "      <td>1</td>\n",
       "    </tr>\n",
       "    <tr>\n",
       "      <th>1</th>\n",
       "      <td>30</td>\n",
       "      <td>65</td>\n",
       "      <td>0</td>\n",
       "      <td>1</td>\n",
       "    </tr>\n",
       "    <tr>\n",
       "      <th>2</th>\n",
       "      <td>31</td>\n",
       "      <td>59</td>\n",
       "      <td>2</td>\n",
       "      <td>1</td>\n",
       "    </tr>\n",
       "    <tr>\n",
       "      <th>3</th>\n",
       "      <td>31</td>\n",
       "      <td>65</td>\n",
       "      <td>4</td>\n",
       "      <td>1</td>\n",
       "    </tr>\n",
       "    <tr>\n",
       "      <th>4</th>\n",
       "      <td>33</td>\n",
       "      <td>58</td>\n",
       "      <td>10</td>\n",
       "      <td>1</td>\n",
       "    </tr>\n",
       "    <tr>\n",
       "      <th>...</th>\n",
       "      <td>...</td>\n",
       "      <td>...</td>\n",
       "      <td>...</td>\n",
       "      <td>...</td>\n",
       "    </tr>\n",
       "    <tr>\n",
       "      <th>300</th>\n",
       "      <td>75</td>\n",
       "      <td>62</td>\n",
       "      <td>1</td>\n",
       "      <td>1</td>\n",
       "    </tr>\n",
       "    <tr>\n",
       "      <th>301</th>\n",
       "      <td>76</td>\n",
       "      <td>67</td>\n",
       "      <td>0</td>\n",
       "      <td>1</td>\n",
       "    </tr>\n",
       "    <tr>\n",
       "      <th>302</th>\n",
       "      <td>77</td>\n",
       "      <td>65</td>\n",
       "      <td>3</td>\n",
       "      <td>1</td>\n",
       "    </tr>\n",
       "    <tr>\n",
       "      <th>303</th>\n",
       "      <td>78</td>\n",
       "      <td>65</td>\n",
       "      <td>1</td>\n",
       "      <td>2</td>\n",
       "    </tr>\n",
       "    <tr>\n",
       "      <th>304</th>\n",
       "      <td>83</td>\n",
       "      <td>58</td>\n",
       "      <td>2</td>\n",
       "      <td>2</td>\n",
       "    </tr>\n",
       "  </tbody>\n",
       "</table>\n",
       "<p>305 rows × 4 columns</p>\n",
       "</div>"
      ],
      "text/plain": [
       "     Age  Year  Auxillary nodes  Survival \n",
       "0     30    62                3          1\n",
       "1     30    65                0          1\n",
       "2     31    59                2          1\n",
       "3     31    65                4          1\n",
       "4     33    58               10          1\n",
       "..   ...   ...              ...        ...\n",
       "300   75    62                1          1\n",
       "301   76    67                0          1\n",
       "302   77    65                3          1\n",
       "303   78    65                1          2\n",
       "304   83    58                2          2\n",
       "\n",
       "[305 rows x 4 columns]"
      ]
     },
     "execution_count": 10,
     "metadata": {},
     "output_type": "execute_result"
    }
   ],
   "source": [
    "# Import data\n",
    "\n",
    "data = pd.read_csv(\"cancer.csv\")\n",
    "\n",
    "# Create features/inputs\n",
    "X = data.drop(columns = [\"Survival \"])\n",
    "\n",
    "# Create the output/class\n",
    "y = data[\"Survival \"]\n",
    "\n",
    "# Splitting into training and testing datasets using KFold of 10 folds\n",
    "kf = KFold()\n",
    "KFold(n_splits=10)\n",
    "\n",
    "for train_index, test_index in kf.split(data):\n",
    "    \n",
    "    X_train, X_test = X.iloc[train_index], X.iloc[test_index]\n",
    "    y_train, y_test = y.iloc[train_index], y.iloc[test_index]\n",
    "    \n",
    "data  "
   ]
  },
  {
   "cell_type": "code",
   "execution_count": 48,
   "id": "943e5faf",
   "metadata": {},
   "outputs": [
    {
     "name": "stdout",
     "output_type": "stream",
     "text": [
      "              precision    recall  f1-score   support\n",
      "\n",
      "           1       0.76      0.93      0.84        45\n",
      "           2       0.50      0.19      0.27        16\n",
      "\n",
      "    accuracy                           0.74        61\n",
      "   macro avg       0.63      0.56      0.56        61\n",
      "weighted avg       0.69      0.74      0.69        61\n",
      "\n"
     ]
    },
    {
     "data": {
      "image/png": "[encoded data removed]",
      "text/plain": [
       "<Figure size 432x288 with 2 Axes>"
      ]
     },
     "metadata": {
      "needs_background": "light"
     },
     "output_type": "display_data"
    },
    {
     "data": {
      "image/png": "[encoded data removed]",
      "text/plain": [
       "<Figure size 432x288 with 1 Axes>"
      ]
     },
     "metadata": {
      "needs_background": "light"
     },
     "output_type": "display_data"
    }
   ],
   "source": [
    "# Logistic Regression\n",
    "\n",
    "# Defining and training the model\n",
    "clf = LogisticRegression(solver = \"newton-cg\", penalty = \"none\", C = 100, random_state = 10).fit(X_train, y_train)\n",
    "\n",
    "# Evaluating the model \n",
    "clf.score(X_test, y_test)\n",
    "\n",
    "# Making predictions\n",
    "y_pred = clf.predict(X_test)\n",
    "\n",
    "# Creating the labels\n",
    "labels = [\"authentic\", \"forged\"]\n",
    "\n",
    "# Developing the confusion matrix\n",
    "cm = confusion_matrix(y_test, y_pred, labels = clf.classes_)\n",
    "\n",
    "# Display Confusion Matrix\n",
    "disp = ConfusionMatrixDisplay(confusion_matrix = cm, display_labels = labels)\n",
    "disp.plot()\n",
    "\n",
    "# Print performance metrics \n",
    "print(classification_report(y_test, y_pred, labels = clf.classes_))\n",
    "\n",
    "# Plotting ROC curve\n",
    "plot_roc_curve(clf, X_test, y_test) \n",
    "plt.show()"
   ]
  },
  {
   "cell_type": "code",
   "execution_count": 29,
   "id": "26a80ae3",
   "metadata": {},
   "outputs": [
    {
     "name": "stdout",
     "output_type": "stream",
     "text": [
      "              precision    recall  f1-score   support\n",
      "\n",
      "           1       0.75      0.93      0.83        45\n",
      "           2       0.40      0.12      0.19        16\n",
      "\n",
      "    accuracy                           0.72        61\n",
      "   macro avg       0.57      0.53      0.51        61\n",
      "weighted avg       0.66      0.72      0.66        61\n",
      "\n"
     ]
    },
    {
     "data": {
      "image/png": "[encoded data removed]",
      "text/plain": [
       "<Figure size 432x288 with 2 Axes>"
      ]
     },
     "metadata": {
      "needs_background": "light"
     },
     "output_type": "display_data"
    }
   ],
   "source": [
    "# Developing and fitting the random forest algorithm\n",
    "rf = RandomForestClassifier(n_estimators = 100, max_depth = 4, max_features = 'sqrt', random_state = 0).fit(X_train, y_train)\n",
    "\n",
    "# Making predictions\n",
    "rf_pred = rf.predict(X_test)\n",
    "\n",
    "cm_rf = confusion_matrix(y_test, rf_pred, labels = clf.classes_)\n",
    "disp = ConfusionMatrixDisplay(confusion_matrix = cm_rf, display_labels = labels)\n",
    "disp.plot()\n",
    "print(classification_report(y_test, rf_pred, labels = clf.classes_))"
   ]
  },
  {
   "cell_type": "code",
   "execution_count": 30,
   "id": "333f9ff8",
   "metadata": {},
   "outputs": [
    {
     "name": "stdout",
     "output_type": "stream",
     "text": [
      "              precision    recall  f1-score   support\n",
      "\n",
      "           1       0.74      1.00      0.85        45\n",
      "           2       0.00      0.00      0.00        16\n",
      "\n",
      "    accuracy                           0.74        61\n",
      "   macro avg       0.37      0.50      0.42        61\n",
      "weighted avg       0.54      0.74      0.63        61\n",
      "\n"
     ]
    },
    {
     "data": {
      "image/png": "[encoded data removed]",
      "text/plain": [
       "<Figure size 432x288 with 2 Axes>"
      ]
     },
     "metadata": {
      "needs_background": "light"
     },
     "output_type": "display_data"
    }
   ],
   "source": [
    "# Developing and fitting the Support Vector Machine\n",
    "svm = SVC(random_state = 0, kernel = \"sigmoid\", gamma =100, C=100).fit(X_train, y_train)\n",
    "\n",
    "svm_pred = svm.predict(X_test)\n",
    "\n",
    "cm_svm = confusion_matrix(y_test, svm_pred, labels = clf.classes_)\n",
    "disp = ConfusionMatrixDisplay(confusion_matrix = cm_svm, display_labels = labels)\n",
    "disp.plot()\n",
    "print(classification_report(y_test, svm_pred, labels = clf.classes_))"
   ]
  },
  {
   "cell_type": "code",
   "execution_count": 31,
   "id": "9da1cdfa",
   "metadata": {},
   "outputs": [
    {
     "name": "stdout",
     "output_type": "stream",
     "text": [
      "              precision    recall  f1-score   support\n",
      "\n",
      "           1       0.76      0.93      0.84        45\n",
      "           2       0.50      0.19      0.27        16\n",
      "\n",
      "    accuracy                           0.74        61\n",
      "   macro avg       0.63      0.56      0.56        61\n",
      "weighted avg       0.69      0.74      0.69        61\n",
      "\n"
     ]
    },
    {
     "data": {
      "image/png": "[encoded data removed]",
      "text/plain": [
       "<Figure size 432x288 with 2 Axes>"
      ]
     },
     "metadata": {
      "needs_background": "light"
     },
     "output_type": "display_data"
    }
   ],
   "source": [
    "# Developing and fitting the Neural Network\n",
    "\n",
    "nn = MLPClassifier(solver = 'lbfgs', alpha = 0.0001, hidden_layer_sizes = (15,), random_state = 1, activation = \"identity\", learning_rate_init = 0.01).fit(X_train, y_train)\n",
    "\n",
    "nn_pred = nn.predict(X_test)\n",
    "\n",
    "cm_nn = confusion_matrix(y_test, nn_pred, labels = clf.classes_)\n",
    "disp = ConfusionMatrixDisplay(confusion_matrix = cm_nn, display_labels = labels)\n",
    "disp.plot()\n",
    "print(classification_report(y_test, nn_pred, labels = clf.classes_))"
   ]
  },
  {
   "cell_type": "code",
   "execution_count": 18,
   "id": "32946b4f",
   "metadata": {},
   "outputs": [
    {
     "data": {
      "text/plain": [
       "{'C': 100, 'penalty': 'none', 'solver': 'newton-cg'}"
      ]
     },
     "execution_count": 18,
     "metadata": {},
     "output_type": "execute_result"
    }
   ],
   "source": [
    "# Implement grid search for parameter tuning -Logistic Regression\n",
    "\n",
    "clf = LogisticRegression(solver = \"newton-cg\", penalty = \"none\", C = 100, random_state = 10).fit(X_train, y_train)\n",
    "\n",
    "parameters = {'solver': ('newton-cg', 'lbfgs', 'liblinear', 'sag', 'saga'), 'penalty': ('none', 'l1', 'l2', 'elasticnet'), 'C':[100, 10, 1.0, 0.1, 0.01]}\n",
    "\n",
    "svm_grid = GridSearchCV(clf, parameters)\n",
    "svm_grid.fit(X_train, y_train)\n",
    "svm_grid.best_params_\n"
   ]
  },
  {
   "cell_type": "code",
   "execution_count": 19,
   "id": "87ecf171",
   "metadata": {},
   "outputs": [
    {
     "data": {
      "text/plain": [
       "{'max_depth': 4, 'max_features': 'sqrt', 'n_estimators': 100}"
      ]
     },
     "execution_count": 19,
     "metadata": {},
     "output_type": "execute_result"
    }
   ],
   "source": [
    "# Implement grid search for parameter tuning -Random forest\n",
    "\n",
    "rf = RandomForestClassifier(n_estimators = 100, max_depth = 4, max_features = 'sqrt', random_state = 0).fit(X_train, y_train)\n",
    "\n",
    "parameters = {'max_features': ('sqrt', 'log2'), 'n_estimators': [10, 100, 1000], 'max_depth':[0,1,2,3,4,5,6,7,8,9]}\n",
    "\n",
    "\n",
    "svm_grid = GridSearchCV(rf, parameters)\n",
    "svm_grid.fit(X_train, y_train)\n",
    "svm_grid.best_params_"
   ]
  },
  {
   "cell_type": "code",
   "execution_count": 24,
   "id": "03d1d5e8",
   "metadata": {},
   "outputs": [
    {
     "data": {
      "text/plain": [
       "{'C': 100, 'gamma': 100}"
      ]
     },
     "execution_count": 24,
     "metadata": {},
     "output_type": "execute_result"
    }
   ],
   "source": [
    "# Implement grid search for parameter tuning - Support Vector Machine\n",
    "\n",
    "svm = SVC(random_state = 0, kernel = \"sigmoid\", gamma =100, C=1).fit(X_train, y_train)\n",
    "\n",
    "parameters = {'gamma': [100,10,1.0,0.1], 'C':[100, 10,1.0,0.1,0.01]}\n",
    "\n",
    "svm_grid = GridSearchCV(svm, parameters)\n",
    "svm_grid.fit(X_train, y_train)\n",
    "svm_grid.best_params_\n",
    "\n"
   ]
  },
  {
   "cell_type": "code",
   "execution_count": 25,
   "id": "b70e73c8",
   "metadata": {},
   "outputs": [
    {
     "data": {
      "text/plain": [
       "{'activation': 'identity', 'solver': 'lbfgs'}"
      ]
     },
     "execution_count": 25,
     "metadata": {},
     "output_type": "execute_result"
    }
   ],
   "source": [
    "# Implement grid search for parameter tuning - Neural Networks\n",
    "\n",
    "nn = MLPClassifier(solver = 'lbfgs', alpha = 0.0001, hidden_layer_sizes = (15,), random_state = 1, activation = \"relu\", learning_rate_init = 0.01).fit(X_train, y_train)\n",
    "\n",
    "\n",
    "parameters = {'solver': ('lbfgs', 'sgd', 'adam'), 'activation': ('identity', 'logistic', 'tanh', 'relu')}\n",
    "\n",
    "nn_grid = GridSearchCV(nn, parameters)\n",
    "nn_grid.fit(X_train, y_train)\n",
    "nn_grid.best_params_"
   ]
  },
  {
   "cell_type": "markdown",
   "id": "c315d5ee",
   "metadata": {},
   "source": [
    "3. Evaluate if the algorithms are overfitting? (10)"
   ]
  },
  {
   "cell_type": "code",
   "execution_count": 43,
   "id": "eceb63d0",
   "metadata": {},
   "outputs": [
    {
     "name": "stdout",
     "output_type": "stream",
     "text": [
      "Average of all 10 folds of Logistic Regression is: 0.75\n"
     ]
    }
   ],
   "source": [
    "import statistics as st\n",
    "\n",
    "kf=KFold(n_splits=10)\n",
    "Score=[]\n",
    "\n",
    "\n",
    "for train_indices, test_indices in kf.split(X_train):\n",
    "    clf.fit(X_train.iloc[train_indices], y_train.iloc[train_indices])\n",
    "    Value=clf.score(X_train.iloc[train_indices], y_train.iloc[train_indices])\n",
    "    Score.append(Value)\n",
    "    \n",
    "    \n",
    "print(\"Average of all 10 folds of Logistic Regression is:\", round(st.mean(Score),2))\n"
   ]
  },
  {
   "cell_type": "code",
   "execution_count": 44,
   "id": "2f9a1ec3",
   "metadata": {},
   "outputs": [
    {
     "name": "stdout",
     "output_type": "stream",
     "text": [
      "Average of all 10 folds of Random Forest is: 0.82\n"
     ]
    }
   ],
   "source": [
    "import statistics as st\n",
    "\n",
    "kf=KFold(n_splits=10)\n",
    "Score=[]\n",
    "\n",
    "\n",
    "for train_indices, test_indices in kf.split(X_train):\n",
    "    rf.fit(X_train.iloc[train_indices], y_train.iloc[train_indices])\n",
    "    Value=rf.score(X_train.iloc[train_indices], y_train.iloc[train_indices])\n",
    "    Score.append(Value)\n",
    "    \n",
    "    \n",
    "print(\"Average of all 10 folds of Random Forest is:\", round(st.mean(Score),2))\n"
   ]
  },
  {
   "cell_type": "code",
   "execution_count": 45,
   "id": "f28c849e",
   "metadata": {},
   "outputs": [
    {
     "name": "stdout",
     "output_type": "stream",
     "text": [
      "Average of all 10 folds of Support Vector Machine is: 0.73\n"
     ]
    }
   ],
   "source": [
    "import statistics as st\n",
    "\n",
    "kf=KFold(n_splits=10)\n",
    "Score=[]\n",
    "\n",
    "\n",
    "for train_indices, test_indices in kf.split(X_train):\n",
    "    svm.fit(X_train.iloc[train_indices], y_train.iloc[train_indices])\n",
    "    Value=svm.score(X_train.iloc[train_indices], y_train.iloc[train_indices])\n",
    "    Score.append(Value)\n",
    "    \n",
    "    \n",
    "print(\"Average of all 10 folds of Support Vector Machine is:\", round(st.mean(Score),2))\n"
   ]
  },
  {
   "cell_type": "code",
   "execution_count": 46,
   "id": "d26552a8",
   "metadata": {},
   "outputs": [
    {
     "name": "stdout",
     "output_type": "stream",
     "text": [
      "Average of all 10 folds of Neural Networks is: 0.75\n"
     ]
    }
   ],
   "source": [
    "import statistics as st\n",
    "\n",
    "kf=KFold(n_splits=10)\n",
    "Score=[]\n",
    "\n",
    "\n",
    "for train_indices, test_indices in kf.split(X_train):\n",
    "    nn.fit(X_train.iloc[train_indices], y_train.iloc[train_indices])\n",
    "    Value=nn.score(X_train.iloc[train_indices], y_train.iloc[train_indices])\n",
    "    Score.append(Value)\n",
    "    \n",
    "    \n",
    "print(\"Average of all 10 folds of Neural Networks is:\", round(st.mean(Score),2))\n"
   ]
  },
  {
   "cell_type": "markdown",
   "id": "a69cd25a",
   "metadata": {},
   "source": [
    "Answer:\n",
    "\n",
    "In Logistic Regression - score is 0.74 and average calculated is 0.75- Both are very closer, so there is no overfitting\n",
    "\n",
    "In Random Forest - score is 0.72 and average calculated is 0.82- Both are very closer, so there is no overfitting\n",
    "\n",
    "\n",
    "In Support Vector Machine - score is 0.74 and average calculated is 0.73- Both are very closer, so there is no overfitting\n",
    "\n",
    "\n",
    "In Neural Networks - score is 0.74 and average calculated is 0.75- Both are very closer, so there is no overfitting\n",
    "\n",
    "So, all the models are performing well.\n"
   ]
  },
  {
   "cell_type": "code",
   "execution_count": null,
   "id": "c7733c33",
   "metadata": {},
   "outputs": [],
   "source": []
  }
 ],
 "metadata": {
  "kernelspec": {
   "display_name": "Python 3 (ipykernel)",
   "language": "python",
   "name": "python3"
  },
  "language_info": {
   "codemirror_mode": {
    "name": "ipython",
    "version": 3
   },
   "file_extension": ".py",
   "mimetype": "text/x-python",
   "name": "python",
   "nbconvert_exporter": "python",
   "pygments_lexer": "ipython3",
   "version": "3.9.7"
  }
 },
 "nbformat": 4,
 "nbformat_minor": 5
}
