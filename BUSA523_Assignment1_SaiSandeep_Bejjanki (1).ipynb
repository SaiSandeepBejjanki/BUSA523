{
 "cells": [
  {
   "cell_type": "markdown",
   "id": "8bc101de",
   "metadata": {},
   "source": [
    "# - Write a program which randomly selects a number between 1 and 20. The user is then given 5 chances to guess the number correctly to win.\n"
   ]
  },
  {
   "cell_type": "code",
   "execution_count": 1,
   "id": "4bc37d8b",
   "metadata": {},
   "outputs": [
    {
     "name": "stdout",
     "output_type": "stream",
     "text": [
      "The numbers are picked randomly from 1 and 20\n",
      "You can win, if you guess the number in 5 chances\n",
      "Take a guess3\n",
      "Incorrect guess\n",
      "Take a guess13\n",
      "Incorrect guess\n",
      "Take a guess16\n",
      "Incorrect guess\n",
      "Take a guess2\n",
      "Incorrect guess\n",
      "Take a guess1\n",
      "Correct guess\n"
     ]
    }
   ],
   "source": [
    "import random\n",
    "\n",
    "x=random.randint(1,20)\n",
    "\n",
    "print(\"The numbers are picked randomly from 1 and 20\")\n",
    "\n",
    "itr=1\n",
    "\n",
    "print(\"You can win, if you guess the number in 5 chances\")\n",
    "\n",
    "while itr<=5:\n",
    "    y=int(input(\"Take a guess\"))\n",
    "    \n",
    "    if (y==x):\n",
    "        print(\"Correct guess\")\n",
    "        break\n",
    "    else:\n",
    "        print(\"Incorrect guess\")\n",
    "    itr=itr+1"
   ]
  },
  {
   "cell_type": "markdown",
   "id": "3401f4e7",
   "metadata": {},
   "source": [
    "# Make the following changes to the above program- After each guess, print if the next guess should be lower or higher. For example, if the computer selection is 10 and the user input is 6, print guess a higher value."
   ]
  },
  {
   "cell_type": "code",
   "execution_count": 2,
   "id": "48baa3cb",
   "metadata": {},
   "outputs": [
    {
     "name": "stdout",
     "output_type": "stream",
     "text": [
      "The numbers are picked randomly from 1 and 20\n",
      "You can win, if you guess the number in 5 chances\n",
      "Take a guess5\n",
      "Your guess is too lower\n",
      "Take a guess8\n",
      "Your guess is too lower\n",
      "Take a guess16\n",
      "Correct guess\n"
     ]
    }
   ],
   "source": [
    "import random\n",
    "\n",
    "x=random.randint(1,20)\n",
    "\n",
    "print(\"The numbers are picked randomly from 1 and 20\")\n",
    "\n",
    "itr=1\n",
    "\n",
    "print(\"You can win, if you guess the number in 5 chances\")\n",
    "\n",
    "while itr<=5:\n",
    "    y=int(input(\"Take a guess\"))\n",
    "    \n",
    "    if (y==x):\n",
    "        print(\"Correct guess\")\n",
    "        break\n",
    "    elif (y<x):\n",
    "        print(\"Your guess is too lower\")\n",
    "    elif (y>x):\n",
    "        print(\"Your guess is too higher\")\n",
    "    else:\n",
    "        print(\"Incorrect guess\")\n",
    "    itr=itr+1"
   ]
  },
  {
   "cell_type": "markdown",
   "id": "654fad4b",
   "metadata": {},
   "source": [
    "#  - Write a program for “Rock-Paper-Scissors-Lizard-Spock”"
   ]
  },
  {
   "cell_type": "code",
   "execution_count": 2,
   "id": "34e5de5f",
   "metadata": {},
   "outputs": [
    {
     "name": "stdout",
     "output_type": "stream",
     "text": [
      "Enter your move: Rock, Paper, Scissors, Lizard or Spock\n",
      "Rock\n",
      "It's a Tie!\n"
     ]
    }
   ],
   "source": [
    "import random\n",
    "\n",
    "print(\"Enter your move: Rock, Paper, Scissors, Lizard or Spock\")\n",
    "user = input()\n",
    "\n",
    "number = random.randint(1,5)\n",
    "\n",
    "if number == 1:\n",
    "    computer = \"Rock\"\n",
    "elif number == 2:\n",
    "    computer = \"Paper\"\n",
    "elif number == 3:\n",
    "    computer = \"Scissors\"\n",
    "elif number == 4:\n",
    "    computer = \"Lizard\"\n",
    "elif number == 5:\n",
    "    computer = \"Spock\"\n",
    "    \n",
    "if user == computer:\n",
    "    print(\"It's a Tie!\")\n",
    "elif user == \"Rock\" and computer == \"Spock\":\n",
    "    print(\"You Win!\")\n",
    "elif user == \"Paper\" and computer == \"Rock\":\n",
    "    print(\"You Win!\")\n",
    "elif user == \"Scissors\" and computer == \"Paper\":\n",
    "    print(\"You Win!\")\n",
    "elif user == \"Lizard\" and computer == \"Scissors\":\n",
    "    print(\"You Win!\")\n",
    "elif user == \"Spock\" and computer == \"Lizard\":\n",
    "    print(\"You Win!\")\n",
    "    \n",
    "elif user == \"Rock\" and computer == \"Lizard\":\n",
    "    print(\"You Lose!\")\n",
    "elif user == \"Paper\" and computer == \"Spock\":\n",
    "    print(\"You Lose!\")\n",
    "elif user == \"Scissors\" and computer == \"Rock\":\n",
    "    print(\"You Lose!\")\n",
    "elif user == \"Lizard\" and computer == \"Paper\":\n",
    "    print(\"You Lose!\")\n",
    "elif user == \"Spock\" and computer == \"Scissors\":\n",
    "    print(\"You Lose!\")\n",
    "\n",
    "else:\n",
    "    print(\"Invalid Entry\")"
   ]
  },
  {
   "cell_type": "code",
   "execution_count": null,
   "id": "ac8561a1",
   "metadata": {},
   "outputs": [],
   "source": []
  },
  {
   "cell_type": "code",
   "execution_count": null,
   "id": "640ea235",
   "metadata": {},
   "outputs": [],
   "source": []
  }
 ],
 "metadata": {
  "kernelspec": {
   "display_name": "Python 3 (ipykernel)",
   "language": "python",
   "name": "python3"
  },
  "language_info": {
   "codemirror_mode": {
    "name": "ipython",
    "version": 3
   },
   "file_extension": ".py",
   "mimetype": "text/x-python",
   "name": "python",
   "nbconvert_exporter": "python",
   "pygments_lexer": "ipython3",
   "version": "3.9.7"
  }
 },
 "nbformat": 4,
 "nbformat_minor": 5
}
